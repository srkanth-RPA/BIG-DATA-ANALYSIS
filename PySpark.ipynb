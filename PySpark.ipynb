{
  "nbformat": 4,
  "nbformat_minor": 0,
  "metadata": {
    "colab": {
      "provenance": []
    },
    "kernelspec": {
      "name": "python3",
      "display_name": "Python 3"
    },
    "language_info": {
      "name": "python"
    }
  },
  "cells": [
    {
      "cell_type": "markdown",
      "source": [
        "Set Up Environment"
      ],
      "metadata": {
        "id": "cxuliM4FP2ke"
      }
    },
    {
      "cell_type": "code",
      "execution_count": 1,
      "metadata": {
        "colab": {
          "base_uri": "https://localhost:8080/"
        },
        "id": "x18TegJ-HSyb",
        "outputId": "fa5674ee-b755-41b3-8a47-b606954aed34"
      },
      "outputs": [
        {
          "output_type": "stream",
          "name": "stdout",
          "text": [
            "Requirement already satisfied: pyspark in /usr/local/lib/python3.11/dist-packages (3.5.1)\n",
            "Requirement already satisfied: py4j==0.10.9.7 in /usr/local/lib/python3.11/dist-packages (from pyspark) (0.10.9.7)\n"
          ]
        }
      ],
      "source": [
        "!pip install pyspark"
      ]
    },
    {
      "cell_type": "code",
      "source": [
        "from pyspark.sql import SparkSession\n",
        "\n",
        "spark = SparkSession.builder \\\n",
        "    .appName(\"LargeDatasetAnalysis\") \\\n",
        "    .getOrCreate()\n"
      ],
      "metadata": {
        "id": "URFfi4rlQHrv"
      },
      "execution_count": 3,
      "outputs": []
    },
    {
      "cell_type": "code",
      "source": [
        "spark\n"
      ],
      "metadata": {
        "colab": {
          "base_uri": "https://localhost:8080/",
          "height": 219
        },
        "id": "k4U81r1lQkqq",
        "outputId": "c87c709e-af6e-4cbf-b6c9-fab22e6d42b7"
      },
      "execution_count": 4,
      "outputs": [
        {
          "output_type": "execute_result",
          "data": {
            "text/plain": [
              "<pyspark.sql.session.SparkSession at 0x7fd8edec1390>"
            ],
            "text/html": [
              "\n",
              "            <div>\n",
              "                <p><b>SparkSession - in-memory</b></p>\n",
              "                \n",
              "        <div>\n",
              "            <p><b>SparkContext</b></p>\n",
              "\n",
              "            <p><a href=\"http://d6d4e5a0d2c7:4040\">Spark UI</a></p>\n",
              "\n",
              "            <dl>\n",
              "              <dt>Version</dt>\n",
              "                <dd><code>v3.5.1</code></dd>\n",
              "              <dt>Master</dt>\n",
              "                <dd><code>local[*]</code></dd>\n",
              "              <dt>AppName</dt>\n",
              "                <dd><code>LargeDatasetAnalysis</code></dd>\n",
              "            </dl>\n",
              "        </div>\n",
              "        \n",
              "            </div>\n",
              "        "
            ]
          },
          "metadata": {},
          "execution_count": 4
        }
      ]
    },
    {
      "cell_type": "code",
      "source": [
        "df = spark.read.csv(\"/content/marks.csv\", header=True, inferSchema=True)\n",
        "df.printSchema()\n"
      ],
      "metadata": {
        "colab": {
          "base_uri": "https://localhost:8080/"
        },
        "id": "fw9MLG52Q1cf",
        "outputId": "f3f205a7-2193-4312-c41e-c933d5336d2b"
      },
      "execution_count": 5,
      "outputs": [
        {
          "output_type": "stream",
          "name": "stdout",
          "text": [
            "root\n",
            " |-- Name: string (nullable = true)\n",
            " |-- Marks: integer (nullable = true)\n",
            " |-- Grades: string (nullable = true)\n",
            "\n"
          ]
        }
      ]
    },
    {
      "cell_type": "markdown",
      "source": [
        "**1. Display Top 3 Rows of the Dataset**"
      ],
      "metadata": {
        "id": "VLRnE3cDRI3W"
      }
    },
    {
      "cell_type": "code",
      "source": [
        "df.show(3)"
      ],
      "metadata": {
        "colab": {
          "base_uri": "https://localhost:8080/"
        },
        "id": "ctJ8WrMURSRp",
        "outputId": "2f1a0bf5-5a4e-4352-ffc6-a9599808445f"
      },
      "execution_count": 6,
      "outputs": [
        {
          "output_type": "stream",
          "name": "stdout",
          "text": [
            "+-------+-----+------+\n",
            "|   Name|Marks|Grades|\n",
            "+-------+-----+------+\n",
            "|Priyang|   98|    AA|\n",
            "| Aadhya|   89|    AB|\n",
            "| Krisha|   99|    AA|\n",
            "+-------+-----+------+\n",
            "only showing top 3 rows\n",
            "\n"
          ]
        }
      ]
    },
    {
      "cell_type": "markdown",
      "source": [
        "**2.Display Datatypes of Each Column**"
      ],
      "metadata": {
        "id": "M3Fol0FbR__p"
      }
    },
    {
      "cell_type": "code",
      "source": [
        "df.printSchema()"
      ],
      "metadata": {
        "colab": {
          "base_uri": "https://localhost:8080/"
        },
        "id": "0eU2mzS2R-Fh",
        "outputId": "f7a52b2b-3512-4de1-de39-54e2cf0c8046"
      },
      "execution_count": 7,
      "outputs": [
        {
          "output_type": "stream",
          "name": "stdout",
          "text": [
            "root\n",
            " |-- Name: string (nullable = true)\n",
            " |-- Marks: integer (nullable = true)\n",
            " |-- Grades: string (nullable = true)\n",
            "\n"
          ]
        }
      ]
    },
    {
      "cell_type": "markdown",
      "source": [
        "**3.Display column Names**"
      ],
      "metadata": {
        "id": "JrQoLepzSmKn"
      }
    },
    {
      "cell_type": "code",
      "source": [
        "df.columns"
      ],
      "metadata": {
        "colab": {
          "base_uri": "https://localhost:8080/"
        },
        "id": "11kqF6mESlXc",
        "outputId": "18a54e2e-f407-4e28-d8d3-23bef6206839"
      },
      "execution_count": 9,
      "outputs": [
        {
          "output_type": "execute_result",
          "data": {
            "text/plain": [
              "['Name', 'Marks', 'Grades']"
            ]
          },
          "metadata": {},
          "execution_count": 9
        }
      ]
    },
    {
      "cell_type": "markdown",
      "source": [
        "**4.Count Number of Rows and Columns of the DataSet**"
      ],
      "metadata": {
        "id": "0vnzwTM9TDWx"
      }
    },
    {
      "cell_type": "code",
      "source": [
        "df.count()"
      ],
      "metadata": {
        "colab": {
          "base_uri": "https://localhost:8080/"
        },
        "id": "cotdol-vTK0h",
        "outputId": "a479988d-65e1-4e96-d97d-9f9774218029"
      },
      "execution_count": 10,
      "outputs": [
        {
          "output_type": "execute_result",
          "data": {
            "text/plain": [
              "7"
            ]
          },
          "metadata": {},
          "execution_count": 10
        }
      ]
    },
    {
      "cell_type": "code",
      "source": [
        "len (df.columns)"
      ],
      "metadata": {
        "colab": {
          "base_uri": "https://localhost:8080/"
        },
        "id": "iVwLQAwbTmoB",
        "outputId": "a86ceee5-78a6-4b9f-fd61-644395ea5705"
      },
      "execution_count": 13,
      "outputs": [
        {
          "output_type": "execute_result",
          "data": {
            "text/plain": [
              "3"
            ]
          },
          "metadata": {},
          "execution_count": 13
        }
      ]
    },
    {
      "cell_type": "markdown",
      "source": [
        "**5. Get Overall Statistics of the Dataset**"
      ],
      "metadata": {
        "id": "7sfuqkx1T60R"
      }
    },
    {
      "cell_type": "code",
      "source": [
        "df.describe().show()"
      ],
      "metadata": {
        "colab": {
          "base_uri": "https://localhost:8080/"
        },
        "id": "U_X6vCdGUBKL",
        "outputId": "edf53dc1-81b2-4897-cc99-9e7f11a6fbca"
      },
      "execution_count": 14,
      "outputs": [
        {
          "output_type": "stream",
          "name": "stdout",
          "text": [
            "+-------+------+------------------+------+\n",
            "|summary|  Name|             Marks|Grades|\n",
            "+-------+------+------------------+------+\n",
            "|  count|     7|                 7|     7|\n",
            "|   mean|  NULL| 89.71428571428571|  NULL|\n",
            "| stddev|  NULL|6.6761836831702395|  NULL|\n",
            "|    min|Aadhya|                82|    AA|\n",
            "|    max|Vedant|                99|    BB|\n",
            "+-------+------+------------------+------+\n",
            "\n"
          ]
        }
      ]
    },
    {
      "cell_type": "markdown",
      "source": [
        "**6.Find Unique values available in Grades Column**"
      ],
      "metadata": {
        "id": "xq6qS0rBVP5G"
      }
    },
    {
      "cell_type": "code",
      "source": [
        "df.columns"
      ],
      "metadata": {
        "colab": {
          "base_uri": "https://localhost:8080/"
        },
        "id": "_NdZJGT7U9K2",
        "outputId": "c19b1154-9b13-4547-b6d0-3b42e86f30b6"
      },
      "execution_count": 15,
      "outputs": [
        {
          "output_type": "execute_result",
          "data": {
            "text/plain": [
              "['Name', 'Marks', 'Grades']"
            ]
          },
          "metadata": {},
          "execution_count": 15
        }
      ]
    },
    {
      "cell_type": "code",
      "source": [
        "df.toPandas()['Grades'].unique()"
      ],
      "metadata": {
        "colab": {
          "base_uri": "https://localhost:8080/"
        },
        "id": "M0e1il9wVBfa",
        "outputId": "9d81f9b6-ee68-4e8e-cede-fce71545b042"
      },
      "execution_count": 16,
      "outputs": [
        {
          "output_type": "execute_result",
          "data": {
            "text/plain": [
              "array(['AA', 'AB', 'AC', 'BA', 'BB'], dtype=object)"
            ]
          },
          "metadata": {},
          "execution_count": 16
        }
      ]
    },
    {
      "cell_type": "markdown",
      "source": [
        "**7.Find the total number of Unique values available in Grades Column**"
      ],
      "metadata": {
        "id": "wNzQejGxU01z"
      }
    },
    {
      "cell_type": "code",
      "source": [
        "len (df.toPandas()['Grades'].unique())"
      ],
      "metadata": {
        "colab": {
          "base_uri": "https://localhost:8080/"
        },
        "id": "6VvufwuJVx5w",
        "outputId": "006109d4-5b23-4a11-9792-0135246a2fad"
      },
      "execution_count": 17,
      "outputs": [
        {
          "output_type": "execute_result",
          "data": {
            "text/plain": [
              "5"
            ]
          },
          "metadata": {},
          "execution_count": 17
        }
      ]
    },
    {
      "cell_type": "markdown",
      "source": [
        "**8.How to Select Single Column**"
      ],
      "metadata": {
        "id": "FFCX5eljWLql"
      }
    },
    {
      "cell_type": "code",
      "source": [
        "df.show()"
      ],
      "metadata": {
        "colab": {
          "base_uri": "https://localhost:8080/"
        },
        "id": "-O7YTYYHWRLb",
        "outputId": "d412b09c-f9a8-4e29-9dbd-16ddf5571f01"
      },
      "execution_count": 18,
      "outputs": [
        {
          "output_type": "stream",
          "name": "stdout",
          "text": [
            "+-------+-----+------+\n",
            "|   Name|Marks|Grades|\n",
            "+-------+-----+------+\n",
            "|Priyang|   98|    AA|\n",
            "| Aadhya|   89|    AB|\n",
            "| Krisha|   99|    AA|\n",
            "| Vedant|   87|    AB|\n",
            "| Parshv|   90|    AC|\n",
            "| Mittal|   83|    BA|\n",
            "|Archana|   82|    BB|\n",
            "+-------+-----+------+\n",
            "\n"
          ]
        }
      ]
    },
    {
      "cell_type": "code",
      "source": [
        "df.select('Grades').show()"
      ],
      "metadata": {
        "colab": {
          "base_uri": "https://localhost:8080/"
        },
        "id": "1jI7mHAcWXTf",
        "outputId": "c99dcb02-20c8-4563-b45b-9142cea33283"
      },
      "execution_count": 20,
      "outputs": [
        {
          "output_type": "stream",
          "name": "stdout",
          "text": [
            "+------+\n",
            "|Grades|\n",
            "+------+\n",
            "|    AA|\n",
            "|    AB|\n",
            "|    AA|\n",
            "|    AB|\n",
            "|    AC|\n",
            "|    BA|\n",
            "|    BB|\n",
            "+------+\n",
            "\n"
          ]
        }
      ]
    },
    {
      "cell_type": "markdown",
      "source": [
        "**9. How to Select Multiple Columns**"
      ],
      "metadata": {
        "id": "zb1m7eD8YQkK"
      }
    },
    {
      "cell_type": "code",
      "source": [
        "df.select(['Name','Marks']).show()"
      ],
      "metadata": {
        "colab": {
          "base_uri": "https://localhost:8080/"
        },
        "id": "GHTMmrQ8YcIX",
        "outputId": "3972a5a5-80e2-4196-c30a-4d70525014af"
      },
      "execution_count": 21,
      "outputs": [
        {
          "output_type": "stream",
          "name": "stdout",
          "text": [
            "+-------+-----+\n",
            "|   Name|Marks|\n",
            "+-------+-----+\n",
            "|Priyang|   98|\n",
            "| Aadhya|   89|\n",
            "| Krisha|   99|\n",
            "| Vedant|   87|\n",
            "| Parshv|   90|\n",
            "| Mittal|   83|\n",
            "|Archana|   82|\n",
            "+-------+-----+\n",
            "\n"
          ]
        }
      ]
    },
    {
      "cell_type": "markdown",
      "source": [
        "**10. Create New Column with Marks+1**"
      ],
      "metadata": {
        "id": "4IC8MqRRYv5w"
      }
    },
    {
      "cell_type": "code",
      "source": [
        "df.withColumn('New_Marks',df.Marks+1).show()"
      ],
      "metadata": {
        "colab": {
          "base_uri": "https://localhost:8080/"
        },
        "id": "WpQU4XffY7ST",
        "outputId": "e98dd628-4474-4756-9dd7-83541a15b383"
      },
      "execution_count": 28,
      "outputs": [
        {
          "output_type": "stream",
          "name": "stdout",
          "text": [
            "+-------+-----+------+---------+\n",
            "|   Name|Marks|Grades|New_Marks|\n",
            "+-------+-----+------+---------+\n",
            "|Priyang|   98|    AA|       99|\n",
            "| Aadhya|   89|    AB|       90|\n",
            "| Krisha|   99|    AA|      100|\n",
            "| Vedant|   87|    AB|       88|\n",
            "| Parshv|   90|    AC|       91|\n",
            "| Mittal|   83|    BA|       84|\n",
            "|Archana|   82|    BB|       83|\n",
            "+-------+-----+------+---------+\n",
            "\n"
          ]
        }
      ]
    },
    {
      "cell_type": "markdown",
      "source": [
        "**11.Rename Name Column and Give New Name \"Student_Name\"**"
      ],
      "metadata": {
        "id": "DGuVJ1vGbXEw"
      }
    },
    {
      "cell_type": "code",
      "source": [
        "df.withColumnRenamed('Name','Student_Name').show()"
      ],
      "metadata": {
        "colab": {
          "base_uri": "https://localhost:8080/"
        },
        "id": "USNmubSNbnSZ",
        "outputId": "0a5f2513-9928-4f03-8e64-15e9312d6de2"
      },
      "execution_count": 29,
      "outputs": [
        {
          "output_type": "stream",
          "name": "stdout",
          "text": [
            "+------------+-----+------+\n",
            "|Student_Name|Marks|Grades|\n",
            "+------------+-----+------+\n",
            "|     Priyang|   98|    AA|\n",
            "|      Aadhya|   89|    AB|\n",
            "|      Krisha|   99|    AA|\n",
            "|      Vedant|   87|    AB|\n",
            "|      Parshv|   90|    AC|\n",
            "|      Mittal|   83|    BA|\n",
            "|     Archana|   82|    BB|\n",
            "+------------+-----+------+\n",
            "\n"
          ]
        }
      ]
    },
    {
      "cell_type": "markdown",
      "source": [
        "**12.Display the Name of the students having marks greater than 90**"
      ],
      "metadata": {
        "id": "dO7Lb8BgcaAC"
      }
    },
    {
      "cell_type": "code",
      "source": [
        "df.filter(df['Marks']>90).show()"
      ],
      "metadata": {
        "colab": {
          "base_uri": "https://localhost:8080/"
        },
        "id": "KV1RxT2wck3m",
        "outputId": "eec918b5-056c-4723-9175-a94cc4145e12"
      },
      "execution_count": 30,
      "outputs": [
        {
          "output_type": "stream",
          "name": "stdout",
          "text": [
            "+-------+-----+------+\n",
            "|   Name|Marks|Grades|\n",
            "+-------+-----+------+\n",
            "|Priyang|   98|    AA|\n",
            "| Krisha|   99|    AA|\n",
            "+-------+-----+------+\n",
            "\n"
          ]
        }
      ]
    },
    {
      "cell_type": "markdown",
      "source": [
        "**13.Display Average marks of students**"
      ],
      "metadata": {
        "id": "CtBp3ftrgMST"
      }
    },
    {
      "cell_type": "code",
      "source": [
        "df.groupBy('Grades').mean().show()"
      ],
      "metadata": {
        "colab": {
          "base_uri": "https://localhost:8080/"
        },
        "id": "UqV_XIYqgTJa",
        "outputId": "a33e7c98-85b5-4040-bc6f-b091b285e6cf"
      },
      "execution_count": 31,
      "outputs": [
        {
          "output_type": "stream",
          "name": "stdout",
          "text": [
            "+------+----------+\n",
            "|Grades|avg(Marks)|\n",
            "+------+----------+\n",
            "|    AA|      98.5|\n",
            "|    BA|      83.0|\n",
            "|    AB|      88.0|\n",
            "|    AC|      90.0|\n",
            "|    BB|      82.0|\n",
            "+------+----------+\n",
            "\n"
          ]
        }
      ]
    },
    {
      "cell_type": "markdown",
      "source": [
        "**14.Sort Everyrow of Dataset in Descending Order**"
      ],
      "metadata": {
        "id": "fem_t-SXg2SD"
      }
    },
    {
      "cell_type": "code",
      "source": [
        "df.orderBy(df['Marks'].desc()).show()"
      ],
      "metadata": {
        "colab": {
          "base_uri": "https://localhost:8080/"
        },
        "id": "8RI9vKe4g-MV",
        "outputId": "f5aa1dbd-973c-4d37-e2e8-e81aca670a8a"
      },
      "execution_count": 33,
      "outputs": [
        {
          "output_type": "stream",
          "name": "stdout",
          "text": [
            "+-------+-----+------+\n",
            "|   Name|Marks|Grades|\n",
            "+-------+-----+------+\n",
            "| Krisha|   99|    AA|\n",
            "|Priyang|   98|    AA|\n",
            "| Parshv|   90|    AC|\n",
            "| Aadhya|   89|    AB|\n",
            "| Vedant|   87|    AB|\n",
            "| Mittal|   83|    BA|\n",
            "|Archana|   82|    BB|\n",
            "+-------+-----+------+\n",
            "\n"
          ]
        }
      ]
    }
  ]
}